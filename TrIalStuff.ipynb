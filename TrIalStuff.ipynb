{
 "cells": [
  {
   "cell_type": "code",
   "execution_count": 1,
   "id": "89d645c6",
   "metadata": {
    "scrolled": true
   },
   "outputs": [
    {
     "name": "stdout",
     "output_type": "stream",
     "text": [
      "        ID  Type\n",
      "0        4  1.00\n",
      "1       12  2.79\n",
      "2       14  2.36\n",
      "3       44  2.00\n",
      "4       46  3.00\n",
      "...    ...   ...\n",
      "1086  5813  3.00\n",
      "1087  5824  3.00\n",
      "1088  5827  3.00\n",
      "1089  5831  2.00\n",
      "1090  5842  2.00\n",
      "\n",
      "[1091 rows x 2 columns]\n",
      "4\n",
      "87\n",
      "105\n",
      "387\n",
      "523\n",
      "656\n",
      "833\n",
      "951\n",
      "1107\n",
      "1291\n",
      "1308\n",
      "1414\n",
      "1457\n",
      "1660\n",
      "1663\n",
      "1694\n",
      "1701\n",
      "1747\n",
      "1804\n",
      "1855\n",
      "1867\n",
      "2259\n",
      "2377\n",
      "2433\n",
      "2523\n",
      "2556\n",
      "2652\n",
      "2967\n",
      "3203\n",
      "3260\n",
      "3403\n",
      "3666\n",
      "3706\n",
      "3714\n",
      "4082\n",
      "4085\n",
      "4099\n",
      "4126\n",
      "4503\n",
      "4540\n",
      "4906\n",
      "4913\n",
      "4997\n",
      "5064\n",
      "5126\n",
      "5388\n",
      "5525\n",
      "5549\n",
      "5788\n"
     ]
    }
   ],
   "source": [
    "import pandas as pd\n",
    "import numpy as np\n",
    "from pandas import DataFrame\n",
    "import csv\n",
    "df = pd.read_excel('Book2.xlsx')\n",
    "#print(data)\n",
    "\n",
    "\n",
    "print(df)\n",
    "ID = [0 for i in range(43)]\n",
    "Type = [0 for i in range(1090)] \n",
    "\n",
    "#print(ID)\n",
    "\n",
    "ID = df['ID'].to_list()\n",
    "Type = df['Type'].to_list()\n",
    "#Type = df['T'].to_list()\n",
    "NewList = []\n",
    "for i in range(len(Type)):\n",
    "    if(Type[i] <= 1.5):\n",
    "        print(ID[i])\n",
    "\n",
    "        "
   ]
  },
  {
   "cell_type": "code",
   "execution_count": null,
   "id": "d22459bf",
   "metadata": {},
   "outputs": [],
   "source": []
  },
  {
   "cell_type": "code",
   "execution_count": null,
   "id": "bb3e7a6b",
   "metadata": {},
   "outputs": [],
   "source": []
  }
 ],
 "metadata": {
  "kernelspec": {
   "display_name": "Python 3 (ipykernel)",
   "language": "python",
   "name": "python3"
  },
  "language_info": {
   "codemirror_mode": {
    "name": "ipython",
    "version": 3
   },
   "file_extension": ".py",
   "mimetype": "text/x-python",
   "name": "python",
   "nbconvert_exporter": "python",
   "pygments_lexer": "ipython3",
   "version": "3.9.12"
  }
 },
 "nbformat": 4,
 "nbformat_minor": 5
}
